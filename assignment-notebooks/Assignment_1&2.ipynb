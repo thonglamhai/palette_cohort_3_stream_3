{
 "cells": [
  {
   "attachments": {},
   "cell_type": "markdown",
   "metadata": {},
   "source": [
    "# Assignment 1 and 2"
   ]
  },
  {
   "attachments": {},
   "cell_type": "markdown",
   "metadata": {},
   "source": [
    "**Please follow the instructions. Do not add new cell! Write your code in designated areas.**"
   ]
  },
  {
   "cell_type": "code",
   "execution_count": 1,
   "metadata": {},
   "outputs": [
    {
     "name": "stdout",
     "output_type": "stream",
     "text": [
      "Assignment 1 & 2: Solutions by John\n",
      "Local Time: 2023-06-26 16:16:37\n",
      "Computer ID: hcm-Thong\n"
     ]
    }
   ],
   "source": [
    "import datetime\n",
    "import socket\n",
    "\n",
    "# Get local time\n",
    "local_time = datetime.datetime.now().strftime(\"%Y-%m-%d %H:%M:%S\")\n",
    "\n",
    "# Get computer ID or hostname\n",
    "computer_id = socket.gethostname()\n",
    "\n",
    "# Print output with local time and computer ID\n",
    "print('Assignment 1 & 2: Solutions by Ethan') # Please change your name here\n",
    "print('Local Time:', local_time)\n",
    "print('Computer ID:', computer_id)"
   ]
  },
  {
   "attachments": {},
   "cell_type": "markdown",
   "metadata": {},
   "source": [
    "## Exercise 1: String Manipulation"
   ]
  },
  {
   "attachments": {},
   "cell_type": "markdown",
   "metadata": {},
   "source": [
    "Create a function that takes a string parameter representing a crop name and returns the crop name in uppercase letters. Keys: str, upper()"
   ]
  },
  {
   "cell_type": "code",
   "execution_count": 1,
   "metadata": {},
   "outputs": [
    {
     "name": "stdout",
     "output_type": "stream",
     "text": [
      "RICE\n"
     ]
    }
   ],
   "source": [
    "## Your code here down\n",
    "def upper_name(crop):\n",
    "    return crop.upper()\n",
    "\n",
    "## Your code here up\n",
    "# Test your function\n",
    "print (upper_name('rice'))"
   ]
  },
  {
   "attachments": {},
   "cell_type": "markdown",
   "metadata": {},
   "source": [
    "## Exercise 2: Crop Count"
   ]
  },
  {
   "attachments": {},
   "cell_type": "markdown",
   "metadata": {},
   "source": [
    "Create a function that takes a list of crop names (lentil, barly, canola, spring wheat, durum wheat, oats, alfalfa) and returns the total count of crops. Keys: list, leng."
   ]
  },
  {
   "cell_type": "code",
   "execution_count": 2,
   "metadata": {},
   "outputs": [
    {
     "name": "stdout",
     "output_type": "stream",
     "text": [
      "7\n"
     ]
    }
   ],
   "source": [
    "## Your code here down\n",
    "crops = ['lentil','barly','canola','spring wheat','durum wheat','oats','alfafa']\n",
    "\n",
    "def count_total_crops(crops):\n",
    "    return len(crops)\n",
    "\n",
    "## Your code here up\n",
    "# Test your function\n",
    "print (count_total_crops(crops))"
   ]
  },
  {
   "attachments": {},
   "cell_type": "markdown",
   "metadata": {},
   "source": [
    "## Exercise 3: Temperature Conversion"
   ]
  },
  {
   "attachments": {},
   "cell_type": "markdown",
   "metadata": {},
   "source": [
    "Create a function that takes a temperature in Celsius and converts it to Fahrenheit. Return the converted temperature. Keys:def, find converter."
   ]
  },
  {
   "cell_type": "code",
   "execution_count": 4,
   "metadata": {},
   "outputs": [
    {
     "name": "stdout",
     "output_type": "stream",
     "text": [
      "68.0\n"
     ]
    }
   ],
   "source": [
    "## Your code here down\n",
    "# the formula to convert celsius to fahrenheit f=(c*9/5)+32\n",
    "def convert_c_to_f(cel):\n",
    "    return (cel*9/5) + 32\n",
    "\n",
    "## Your code here up\n",
    "# Test your function\n",
    "print (convert_c_to_f(20))"
   ]
  },
  {
   "attachments": {},
   "cell_type": "markdown",
   "metadata": {},
   "source": [
    "## Exercise 4: Crop Harvest"
   ]
  },
  {
   "attachments": {},
   "cell_type": "markdown",
   "metadata": {},
   "source": [
    "Create a function that takes the yield of canola crop (in bushels) and returns a string indicating whether it's a high, moderate, or low yield. Keys: strings, if-else, print()"
   ]
  },
  {
   "cell_type": "code",
   "execution_count": 5,
   "metadata": {},
   "outputs": [
    {
     "name": "stdout",
     "output_type": "stream",
     "text": [
      "high yield\n"
     ]
    }
   ],
   "source": [
    "## Your code here down\n",
    "# the average yield of the canola is 30 to 45 bushels per acre\n",
    "def identify_yield(num_bu):\n",
    "    average_yield_upper = 45\n",
    "    average_yield_lower = 30\n",
    "\n",
    "    if (num_bu > average_yield_upper):\n",
    "        return 'high yield'\n",
    "    elif (num_bu < average_yield_lower):\n",
    "        return 'low_yield'\n",
    "    else:\n",
    "        return 'moderate_yield'\n",
    "## Your code here up\n",
    "# Test your function\n",
    "print (identify_yield(50))"
   ]
  },
  {
   "attachments": {},
   "cell_type": "markdown",
   "metadata": {},
   "source": [
    "## Exercise 5: Crop Average"
   ]
  },
  {
   "attachments": {},
   "cell_type": "markdown",
   "metadata": {},
   "source": [
    "Create a function that takes a list of crop yields (spring wheat) and returns the average yield. Keys: list, average() or arithmetic average."
   ]
  },
  {
   "cell_type": "code",
   "execution_count": 8,
   "metadata": {},
   "outputs": [
    {
     "name": "stdout",
     "output_type": "stream",
     "text": [
      "50.0\n"
     ]
    }
   ],
   "source": [
    "## Your code here down\n",
    "def calculate_average_yield(yields):\n",
    "    return sum(yields)/len(yields)\n",
    "\n",
    "## Your code here up"
   ]
  },
  {
   "attachments": {},
   "cell_type": "markdown",
   "metadata": {},
   "source": [
    "## Exercise 6: Crop Recommendation"
   ]
  },
  {
   "attachments": {},
   "cell_type": "markdown",
   "metadata": {},
   "source": [
    "Create a function that takes the type of soil (brown, dark brown, black) as a parameter and returns a recommended crop (lentil, canola, oats) for that soil type. Keys: dict"
   ]
  },
  {
   "cell_type": "code",
   "execution_count": 6,
   "metadata": {},
   "outputs": [
    {
     "name": "stdout",
     "output_type": "stream",
     "text": [
      "lentil\n"
     ]
    }
   ],
   "source": [
    "## Your code here down\n",
    "def find_soil_type(soil):\n",
    "    crop_dict= {\n",
    "        'brown': 'lentil',\n",
    "        'dark brown': 'canola',\n",
    "        'black': 'oats'\n",
    "    }\n",
    "\n",
    "    if (soil in crop_dict):\n",
    "        return crop_dict[soil]\n",
    "    else:\n",
    "       return 'soil type not found'\n",
    "## Your code here up\n",
    "# Test your function\n",
    "print(find_soil_type('brown'))"
   ]
  },
  {
   "attachments": {},
   "cell_type": "markdown",
   "metadata": {},
   "source": [
    "## Exercise 7: Crop Rotation"
   ]
  },
  {
   "attachments": {},
   "cell_type": "markdown",
   "metadata": {},
   "source": [
    "Create a function that takes a list of crop names (lentil, barly, canola, spring wheat, durum wheat, oats) and rotates the crops by moving the last crop to the beginning of the list. Keys: list and list index"
   ]
  },
  {
   "cell_type": "code",
   "execution_count": 27,
   "metadata": {},
   "outputs": [],
   "source": [
    "## Your code here down\n",
    "def swap_last_to_first(crop_names):\n",
    "    last_crop = crop_names[-1]\n",
    "    first_crop = crop_names[0]\n",
    "\n",
    "    crop_names[0] = last_crop\n",
    "    crop_names[-1] = first_crop\n",
    "## Your code here up"
   ]
  },
  {
   "attachments": {},
   "cell_type": "markdown",
   "metadata": {},
   "source": [
    "# Exercise 8: Rainfall Analysis"
   ]
  },
  {
   "attachments": {},
   "cell_type": "markdown",
   "metadata": {},
   "source": [
    "Create a function that takes a list of rainfall measurements (daily mm in a week) and returns the maximum and minimum rainfall values. Keys: min(), max(), lists"
   ]
  },
  {
   "cell_type": "code",
   "execution_count": 19,
   "metadata": {},
   "outputs": [
    {
     "name": "stdout",
     "output_type": "stream",
     "text": [
      "[10, 60]\n"
     ]
    }
   ],
   "source": [
    "## Your code here down\n",
    "def find_min_and_max(rainfall):\n",
    "    values = []\n",
    "    values.append(min(rainfall))\n",
    "    values.append(max(rainfall))\n",
    "    return values\n",
    "## Your code here up"
   ]
  },
  {
   "attachments": {},
   "cell_type": "markdown",
   "metadata": {},
   "source": [
    "## Exercise 9: Pest Control"
   ]
  },
  {
   "attachments": {},
   "cell_type": "markdown",
   "metadata": {},
   "source": [
    "Create a function that takes the count of pests detected in a field and returns a recommendation for pest control based on the count. Please search for pests and pest control measures. Keys: if-else statement"
   ]
  },
  {
   "cell_type": "code",
   "execution_count": 8,
   "metadata": {},
   "outputs": [
    {
     "name": "stdout",
     "output_type": "stream",
     "text": [
      "carbine, rimon, cormoran, assail/aceta, silencer/labamba/zivata, decis, malathion500, malathion85E, dibrom, cygon, lagon\n"
     ]
    }
   ],
   "source": [
    "## Your code here down\n",
    "# for alfalfa particularly\n",
    "def recommend_pest_measures(pest_count, pest_type):\n",
    "    alfalfa_threshold = {\n",
    "        'lygus_bug': 8,\n",
    "        'alfalfa_bug': 4,\n",
    "        'potato_leafhopper': 0.2,\n",
    "        'pea_aphid' : 100,\n",
    "        'alfalfa_weevil' : 1\n",
    "    }\n",
    "\n",
    "    alfalfa_measures = {\n",
    "        'lygus_bug': 'carbine, rimon, cormoran, assail/aceta, silencer/labamba/zivata, decis, malathion500, malathion85E, dibrom, cygon, lagon',\n",
    "        'alfalfa_bug': 'cormoran, assail/aceta, lagon/cygon',\n",
    "        'potato_leafhopper': 'sefina, sivantoprime, silencer/labamba/zivata, malathion500, malathion85E, dibrom, lagon/cygon',\n",
    "        'pea_aphid' : 'sefina, carbine/beleaf 50sg, sivanto prime (b), silencer/labamba/zivata, malathion500 malathion85E dibrom, lagon/cygon',\n",
    "        'alfalfa_weevil' : 'coragen max, coragen (D), silencer/labamba/zivata, decis 100 ec, malathion500 malathion85E dibrom, lagon/cygon',\n",
    "    }\n",
    "    \n",
    "    if (alfalfa_threshold[pest_type] < pest_count):\n",
    "        return alfalfa_measures[pest_type]\n",
    "    else:\n",
    "        return 'no measures required'\n",
    "## Your code here up\n"
   ]
  },
  {
   "attachments": {},
   "cell_type": "markdown",
   "metadata": {},
   "source": [
    "## Exercise 10: Weed Control"
   ]
  },
  {
   "attachments": {},
   "cell_type": "markdown",
   "metadata": {},
   "source": [
    "Create a function that takes a list of weed names and suggests appropriate herbicides for weed control. Keys: For Loops and dictionary."
   ]
  },
  {
   "cell_type": "code",
   "execution_count": 7,
   "metadata": {},
   "outputs": [
    {
     "name": "stdout",
     "output_type": "stream",
     "text": [
      "2,4-D, mecoprop, dicamba\n"
     ]
    }
   ],
   "source": [
    "## Your code here down\n",
    "#weed_names = ['black medic','burdock','thistle','chickweed','common groundsel','creeping bellflower',\n",
    "#              'creeping charlie', 'dandelion','foxtail barley','lambs-quarters','pineapple weed','plantain','prostrate knotweed',\n",
    "#              'purple loosestrife','purslane','quackgrass','round-leaved mallow','scentless chamomile','shepherd','stinkweed','white dutch clover']\n",
    "# https://www.saskatchewan.ca/business/agriculture-natural-resources-and-industry/agribusiness-farmers-and-ranchers/crops-and-irrigation/weeds/urban-guide-to-weed-control\n",
    "\n",
    "def suggest_herbicides(weed_name):\n",
    "    herbicides_dict = {\n",
    "        'black medic': '2,4-D, mecoprop, dicamba',\n",
    "        'burdock': '2,4-D, dicamba, glyphosate',\n",
    "        'thistle': '2,4-D, dicamba, glyphosate',\n",
    "        'chickweed': '2,4-D, mecoprop',\n",
    "        'common groundsel': '2,4-D, mecoprop, dicamba',\n",
    "        'creeping bellflower': 'dicamba',\n",
    "        'creeping charlie': 'dicamba',\n",
    "        'dandelion': '2,4-D, glyphosate',\n",
    "        'foxtail barley': 'glyphosate',\n",
    "        'lambs-quarters': '2,4-D',\n",
    "        'pineapple weed': '2,4-D, MCPA',\n",
    "        'plantain': '2,4-D',\n",
    "        'prostrate knotweed': '2,4-D, dicamba, mecoprop',\n",
    "        'purple loosestrife': 'glyphosate',\n",
    "        'purslane': '2,4-D, MCPA',\n",
    "        'quackgrass': 'glyphosate',\n",
    "        'round-leaved mallow': '2,4-D, dicamba, mecoprop',\n",
    "        'scentless chamomile': 'glyphosate',\n",
    "        'shepherd': '2,4-D, MCPA',\n",
    "        'stinkweed': '2,4-D, MCPA',\n",
    "        'white dutch clover': 'mecoprop'\n",
    "    }\n",
    "    if (weed_name in herbicides_dict):\n",
    "        return herbicides_dict[weed_name]\n",
    "    else:\n",
    "        return 'herbicide not found'\n",
    "## Your code here up\n"
   ]
  }
 ],
 "metadata": {
  "kernelspec": {
   "display_name": "Python 3",
   "language": "python",
   "name": "python3"
  },
  "language_info": {
   "codemirror_mode": {
    "name": "ipython",
    "version": 3
   },
   "file_extension": ".py",
   "mimetype": "text/x-python",
   "name": "python",
   "nbconvert_exporter": "python",
   "pygments_lexer": "ipython3",
   "version": "3.11.4"
  },
  "orig_nbformat": 4
 },
 "nbformat": 4,
 "nbformat_minor": 2
}
