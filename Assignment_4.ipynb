{
 "cells": [
  {
   "attachments": {},
   "cell_type": "markdown",
   "metadata": {},
   "source": [
    "# Assignment 4"
   ]
  },
  {
   "attachments": {},
   "cell_type": "markdown",
   "metadata": {},
   "source": [
    "**Please follow the instructions**"
   ]
  },
  {
   "cell_type": "code",
   "execution_count": null,
   "metadata": {},
   "outputs": [],
   "source": [
    "import datetime\n",
    "import socket\n",
    "\n",
    "# Get local time\n",
    "local_time = datetime.datetime.now().strftime(\"%Y-%m-%d %H:%M:%S\")\n",
    "\n",
    "# Get computer ID or hostname\n",
    "computer_id = socket.gethostname()\n",
    "\n",
    "# Print output with local time and computer ID\n",
    "print('Assignment 1 & 2: Solutions by John') # Please change your name here\n",
    "print('Local Time:', local_time)\n",
    "print('Computer ID:', computer_id)"
   ]
  },
  {
   "attachments": {},
   "cell_type": "markdown",
   "metadata": {},
   "source": [
    "# Objective"
   ]
  },
  {
   "attachments": {},
   "cell_type": "markdown",
   "metadata": {},
   "source": [
    "The goal of this project to extract World populattion by countries. \n",
    "Please extarct data from the following data sources: \n",
    "\n",
    "- List of independent and dependency countries: 'https://en.wikipedia.org/wiki/List_of_countries_and_dependencies_by_population'. \n",
    "- List of UN recognized countries: 'https://en.wikipedia.org/wiki/List_of_sovereign_states'"
   ]
  },
  {
   "attachments": {},
   "cell_type": "markdown",
   "metadata": {},
   "source": [
    "# ETL"
   ]
  },
  {
   "attachments": {},
   "cell_type": "markdown",
   "metadata": {},
   "source": [
    "Task 1:\n",
    "- Read the first datasets and display the first 4 rows.\n",
    "- Convert the data types accordingly (e.g., float, string, integer) and perform data cleaning if necessary.\n",
    "- If the population is given in millions (e.g., Azerbaijan Population 10,000,000), divide it by 1,000,000 to represent it as 10.0.\n",
    "\n",
    "Task 2:\n",
    "- Read the second dataframe and display the first 4 rows.\n",
    "- Adjust the data types of the second dataframe as needed.\n",
    "\n",
    "Task 3:\n",
    "- Merge dataframe 1 and dataframe 2 based on the country name. Ensure that the countries have the same name and can be merged together. You can use the following command: `pd.merge(df2, df1, on='Country', how='inner')`.\n",
    "\n",
    "Task 4:\n",
    "- Save the merged dataframe as a CSV file and submit it. Include only the 'Country' and 'Population' columns, excluding any other columns.\n",
    "\n",
    "Please submit the dataset before our class on Tuesday, as I will utilize it for data visualization purposes. You can also upload the dataset to your GitHub account. I will choose the cleanest and correct dataset for our next training."
   ]
  }
 ],
 "metadata": {
  "language_info": {
   "name": "python"
  },
  "orig_nbformat": 4
 },
 "nbformat": 4,
 "nbformat_minor": 2
}
