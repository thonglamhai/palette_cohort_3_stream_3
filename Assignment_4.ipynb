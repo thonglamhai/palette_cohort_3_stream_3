{
 "cells": [
  {
   "attachments": {},
   "cell_type": "markdown",
   "metadata": {},
   "source": [
    "# Assignment 4"
   ]
  },
  {
   "attachments": {},
   "cell_type": "markdown",
   "metadata": {},
   "source": [
    "**Please follow the instructions**"
   ]
  },
  {
   "cell_type": "code",
   "execution_count": 427,
   "metadata": {},
   "outputs": [
    {
     "name": "stdout",
     "output_type": "stream",
     "text": [
      "Assignment 1 & 2: Solutions by Ethan\n",
      "Local Time: 2023-07-03 20:52:56\n",
      "Computer ID: hcm-Thong\n"
     ]
    }
   ],
   "source": [
    "import datetime\n",
    "import socket\n",
    "\n",
    "# Get local time\n",
    "local_time = datetime.datetime.now().strftime(\"%Y-%m-%d %H:%M:%S\")\n",
    "\n",
    "# Get computer ID or hostname\n",
    "computer_id = socket.gethostname()\n",
    "\n",
    "# Print output with local time and computer ID\n",
    "print('Assignment 1 & 2: Solutions by Ethan') # Please change your name here\n",
    "print('Local Time:', local_time)\n",
    "print('Computer ID:', computer_id)"
   ]
  },
  {
   "attachments": {},
   "cell_type": "markdown",
   "metadata": {},
   "source": [
    "# Objective"
   ]
  },
  {
   "attachments": {},
   "cell_type": "markdown",
   "metadata": {},
   "source": [
    "The goal of this project to extract World populattion by countries. \n",
    "Please extarct data from the following data sources: \n",
    "\n",
    "- List of independent and dependency countries: 'https://en.wikipedia.org/wiki/List_of_countries_and_dependencies_by_population'. \n",
    "- List of UN recognized countries: 'https://en.wikipedia.org/wiki/List_of_sovereign_states'"
   ]
  },
  {
   "attachments": {},
   "cell_type": "markdown",
   "metadata": {},
   "source": [
    "# ETL"
   ]
  },
  {
   "attachments": {},
   "cell_type": "markdown",
   "metadata": {},
   "source": [
    "Task 1:\n",
    "- Read the first datasets and display the first 4 rows.\n",
    "- Convert the data types accordingly (e.g., float, string, integer) and perform data cleaning if necessary.\n",
    "- If the population is given in millions (e.g., Azerbaijan Population 10,000,000), divide it by 1,000,000 to represent it as 10.0.\n",
    "\n",
    "Task 2:\n",
    "- Read the second dataframe and display the first 4 rows.\n",
    "- Adjust the data types of the second dataframe as needed.\n",
    "\n",
    "Task 3:\n",
    "- Merge dataframe 1 and dataframe 2 based on the country name. Ensure that the countries have the same name and can be merged together. You can use the following command: `pd.merge(df2, df1, on='Country', how='inner')`.\n",
    "\n",
    "Task 4:\n",
    "- Save the merged dataframe as a CSV file and submit it. Include only the 'Country' and 'Population' columns, excluding any other columns.\n",
    "\n",
    "Please submit the dataset before our class on Tuesday, as I will utilize it for data visualization purposes. You can also upload the dataset to your GitHub account. I will choose the cleanest and correct dataset for our next training."
   ]
  },
  {
   "cell_type": "code",
   "execution_count": 428,
   "metadata": {},
   "outputs": [],
   "source": [
    "# Task 1\n",
    "import pandas as pd\n",
    "\n",
    "# Extract\n",
    "url1 = 'https://en.wikipedia.org/wiki/List_of_countries_and_dependencies_by_population'\n",
    "\n",
    "df1 = pd.read_html(url1)[1]\n",
    "\n",
    "df1.head(4)\n",
    "\n",
    "#url2 = 'https://en.wikipedia.org/wiki/List_of_sovereign_states'\n",
    "#df2 = pd.read_html(url2)[1]\n",
    "#df2\n",
    "\n",
    "# Transform\n",
    "\n",
    "df1['Country / Dependency'] = df1['Country / Dependency'].astype('string')\n",
    "df1['Population'] = df1['Population'].astype('float')\n",
    "df1[\"% of world\"] = df1[\"% of world\"].astype('string')\n",
    "df1['Date'] = df1['Date'].astype('string')\n",
    "df1['Source (official or from the United Nations)'] = df1['Source (official or from the United Nations)'].astype('string')\n",
    "\n",
    "\n"
   ]
  },
  {
   "cell_type": "code",
   "execution_count": 429,
   "metadata": {},
   "outputs": [],
   "source": [
    "for i in range(len(df1)):\n",
    "    df1.loc[i,'Population'] = df1.loc[i,'Population'] / 1000000"
   ]
  },
  {
   "attachments": {},
   "cell_type": "markdown",
   "metadata": {},
   "source": [
    "Task 2"
   ]
  },
  {
   "cell_type": "code",
   "execution_count": 430,
   "metadata": {},
   "outputs": [
    {
     "data": {
      "text/html": [
       "<div>\n",
       "<style scoped>\n",
       "    .dataframe tbody tr th:only-of-type {\n",
       "        vertical-align: middle;\n",
       "    }\n",
       "\n",
       "    .dataframe tbody tr th {\n",
       "        vertical-align: top;\n",
       "    }\n",
       "\n",
       "    .dataframe thead th {\n",
       "        text-align: right;\n",
       "    }\n",
       "</style>\n",
       "<table border=\"1\" class=\"dataframe\">\n",
       "  <thead>\n",
       "    <tr style=\"text-align: right;\">\n",
       "      <th></th>\n",
       "      <th>Common and formal names</th>\n",
       "      <th>Membership within the UN System[c]</th>\n",
       "      <th>Sovereignty dispute[d]</th>\n",
       "      <th>Further information on status and recognition of sovereignty[f]</th>\n",
       "    </tr>\n",
       "  </thead>\n",
       "  <tbody>\n",
       "    <tr>\n",
       "      <th>0</th>\n",
       "      <td>Afghanistan</td>\n",
       "      <td>UN member state</td>\n",
       "      <td>NaN</td>\n",
       "      <td>The de facto ruling government, the Islamic Em...</td>\n",
       "    </tr>\n",
       "    <tr>\n",
       "      <th>1</th>\n",
       "      <td>Albania – Republic of Albania</td>\n",
       "      <td>NaN</td>\n",
       "      <td>NaN</td>\n",
       "      <td>NaN</td>\n",
       "    </tr>\n",
       "    <tr>\n",
       "      <th>2</th>\n",
       "      <td>Algeria – People's Democratic Republic of Algeria</td>\n",
       "      <td>NaN</td>\n",
       "      <td>NaN</td>\n",
       "      <td>NaN</td>\n",
       "    </tr>\n",
       "    <tr>\n",
       "      <th>3</th>\n",
       "      <td>Andorra – Principality of Andorra</td>\n",
       "      <td>NaN</td>\n",
       "      <td>NaN</td>\n",
       "      <td>Andorra is a co-principality in which the offi...</td>\n",
       "    </tr>\n",
       "  </tbody>\n",
       "</table>\n",
       "</div>"
      ],
      "text/plain": [
       "                             Common and formal names  \\\n",
       "0                                        Afghanistan   \n",
       "1                      Albania – Republic of Albania   \n",
       "2  Algeria – People's Democratic Republic of Algeria   \n",
       "3                  Andorra – Principality of Andorra   \n",
       "\n",
       "  Membership within the UN System[c] Sovereignty dispute[d]  \\\n",
       "0                    UN member state                    NaN   \n",
       "1                                NaN                    NaN   \n",
       "2                                NaN                    NaN   \n",
       "3                                NaN                    NaN   \n",
       "\n",
       "  Further information on status and recognition of sovereignty[f]  \n",
       "0  The de facto ruling government, the Islamic Em...               \n",
       "1                                                NaN               \n",
       "2                                                NaN               \n",
       "3  Andorra is a co-principality in which the offi...               "
      ]
     },
     "execution_count": 430,
     "metadata": {},
     "output_type": "execute_result"
    }
   ],
   "source": [
    "url2 = 'https://en.wikipedia.org/wiki/List_of_sovereign_states'\n",
    "df2 = pd.read_html(url2)[1]\n",
    "df2.head(4)\n"
   ]
  },
  {
   "cell_type": "code",
   "execution_count": 431,
   "metadata": {},
   "outputs": [],
   "source": [
    "df2['Common and formal names'] = df2['Common and formal names'].astype('string')\n",
    "df2['Membership within the UN System[c]'] = df2['Membership within the UN System[c]'].astype('string')\n",
    "df2['Sovereignty dispute[d]'] = df2['Sovereignty dispute[d]'].astype('string')\n",
    "df2['Further information on status and recognition of sovereignty[f]'] = df2['Further information on status and recognition of sovereignty[f]'].astype('string')"
   ]
  },
  {
   "attachments": {},
   "cell_type": "markdown",
   "metadata": {},
   "source": [
    "Task 3 Merge df1 with df2"
   ]
  },
  {
   "cell_type": "code",
   "execution_count": 432,
   "metadata": {},
   "outputs": [],
   "source": [
    "df1 = df1.rename(columns={\"Country / Dependency\": \"Country\"})"
   ]
  },
  {
   "cell_type": "code",
   "execution_count": 433,
   "metadata": {},
   "outputs": [],
   "source": [
    "df2 = df2.rename(columns={\"Common and formal names\": \"Country\"})"
   ]
  },
  {
   "cell_type": "code",
   "execution_count": 434,
   "metadata": {},
   "outputs": [],
   "source": [
    "df2['Country'] = df2['Country'].replace(r'Republic of ', '',regex=True)"
   ]
  },
  {
   "cell_type": "code",
   "execution_count": 435,
   "metadata": {},
   "outputs": [],
   "source": [
    "df2['Country'] = df2['Country'].replace(r'–.*$', '', regex=True)"
   ]
  },
  {
   "cell_type": "code",
   "execution_count": 436,
   "metadata": {},
   "outputs": [],
   "source": [
    "df2['Country'] = df2['Country'].replace(r'[^\\u0000-\\u007F]', '', regex=True)"
   ]
  },
  {
   "cell_type": "code",
   "execution_count": 437,
   "metadata": {},
   "outputs": [],
   "source": [
    "#pd.merge(df1, df2, on=\"Country\", how=\"inner\")\n",
    "#result = pd.concat([df1, df2], axis = 0, join='inner')\n",
    "\n",
    "df = pd.merge(df1, df2, on=\"Country\", how=\"inner\")"
   ]
  },
  {
   "cell_type": "code",
   "execution_count": 438,
   "metadata": {},
   "outputs": [],
   "source": [
    "# drop redundant columns\n",
    "df = df.drop(df.columns[0], axis = 1)"
   ]
  },
  {
   "cell_type": "code",
   "execution_count": 439,
   "metadata": {},
   "outputs": [],
   "source": [
    "df = df.drop(df.columns[5], axis = 1)"
   ]
  },
  {
   "cell_type": "code",
   "execution_count": 440,
   "metadata": {},
   "outputs": [],
   "source": [
    "column_names = ['Country', 'Population']\n",
    "\n",
    "df.to_csv(\"c:/tmp/assignment4.csv\", index = False, columns=column_names)"
   ]
  }
 ],
 "metadata": {
  "kernelspec": {
   "display_name": "Python 3",
   "language": "python",
   "name": "python3"
  },
  "language_info": {
   "codemirror_mode": {
    "name": "ipython",
    "version": 3
   },
   "file_extension": ".py",
   "mimetype": "text/x-python",
   "name": "python",
   "nbconvert_exporter": "python",
   "pygments_lexer": "ipython3",
   "version": "3.11.4"
  },
  "orig_nbformat": 4
 },
 "nbformat": 4,
 "nbformat_minor": 2
}
